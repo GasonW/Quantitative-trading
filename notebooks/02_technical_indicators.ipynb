{
 "cells": [
  {
   "cell_type": "markdown",
   "metadata": {},
   "source": [
    "# 技术指标计算与可视化\n",
    "\n",
    "本notebook将演示如何：\n",
    "1. 计算MACD、RSI和布林带指标\n",
    "2. 可视化技术指标\n",
    "3. 分析不同参数对指标的影响"
   ]
  },
  {
   "cell_type": "code",
   "execution_count": null,
   "metadata": {},
   "source": [
    "import pandas as pd\n",
    "import numpy as np\n",
    "import matplotlib.pyplot as plt\n",
    "import seaborn as sns\n",
    "from src.indicators import calculate_macd, calculate_rsi, calculate_bollinger_bands\n",
    "\n",
    "# 设置中文显示\n",
    "plt.rcParams['font.sans-serif'] = ['Arial Unicode MS']  # MacOS\n",
    "plt.rcParams['axes.unicode_minus'] = False"
   ]
  },
  {
   "cell_type": "markdown",
   "metadata": {},
   "source": [
    "## 1. 加载数据"
   ]
  },
  {
   "cell_type": "code",
   "execution_count": null,
   "metadata": {},
   "source": [
    "# 加载苹果公司数据作为示例\n",
    "df = pd.read_csv('../data/AAPL_data.csv', index_col=0, parse_dates=True)\n",
    "df.head()"
   ]
  },
  {
   "cell_type": "markdown",
   "metadata": {},
   "source": [
    "## 2. 计算技术指标"
   ]
  },
  {
   "cell_type": "code",
   "execution_count": null,
   "metadata": {},
   "source": [
    "# 计算MACD\n",
    "macd = calculate_macd(df['Close'])\n",
    "\n",
    "# 计算RSI\n",
    "rsi = calculate_rsi(df['Close'])\n",
    "\n",
    "# 计算布林带\n",
    "bb = calculate_bollinger_bands(df['Close'])\n",
    "\n",
    "print('MACD指标示例：')\n",
    "print(macd.head())\n",
    "print('\\nRSI指标示例：')\n",
    "print(rsi.head())\n",
    "print('\\n布林带指标示例：')\n",
    "print(bb.head())"
   ]
  },
  {
   "cell_type": "markdown",
   "metadata": {},
   "source": [
    "## 3. 可视化技术指标"
   ]
  },
  {
   "cell_type": "code",
   "execution_count": null,
   "metadata": {},
   "source": [
    "# 创建子图\n",
    "fig, (ax1, ax2, ax3) = plt.subplots(3, 1, figsize=(15, 12))\n",
    "\n",
    "# 绘制价格和布林带\n",
    "ax1.plot(df.index, df['Close'], label='价格', color='blue')\n",
    "ax1.plot(bb.index, bb['Upper'], '--', label='上轨', color='gray')\n",
    "ax1.plot(bb.index, bb['Middle'], '--', label='中轨', color='gray')\n",
    "ax1.plot(bb.index, bb['Lower'], '--', label='下轨', color='gray')\n",
    "ax1.set_title('价格与布林带')\n",
    "ax1.legend()\n",
    "ax1.grid(True)\n",
    "\n",
    "# 绘制MACD\n",
    "ax2.plot(macd.index, macd['MACD'], label='MACD', color='blue')\n",
    "ax2.plot(macd.index, macd['Signal'], label='信号线', color='orange')\n",
    "ax2.bar(macd.index, macd['Histogram'], label='MACD柱状图', color='gray', alpha=0.3)\n",
    "ax2.set_title('MACD指标')\n",
    "ax2.legend()\n",
    "ax2.grid(True)\n",
    "\n",
    "# 绘制RSI\n",
    "ax3.plot(rsi.index, rsi, label='RSI', color='purple')\n",
    "ax3.axhline(y=70, color='r', linestyle='--')\n",
    "ax3.axhline(y=30, color='g', linestyle='--')\n",
    "ax3.set_title('RSI指标')\n",
    "ax3.legend()\n",
    "ax3.grid(True)\n",
    "\n",
    "plt.tight_layout()\n",
    "plt.show()"
   ]
  },
  {
   "cell_type": "markdown",
   "metadata": {},
   "source": [
    "## 4. 参数敏感性分析"
   ]
  },
  {
   "cell_type": "code",
   "execution_count": null,
   "metadata": {},
   "source": [
    "# 测试不同的MACD参数\n",
    "macd_params = [\n",
    "    (12, 26, 9),  # 标准参数\n",
    "    (5, 35, 5),   # 快速参数\n",
    "    (21, 55, 9)   # 慢速参数\n",
    "]\n",
    "\n",
    "plt.figure(figsize=(15, 10))\n",
    "\n",
    "for i, (fast, slow, signal) in enumerate(macd_params, 1):\n",
    "    macd_test = calculate_macd(df['Close'], fast, slow, signal)\n",
    "    \n",
    "    plt.subplot(3, 1, i)\n",
    "    plt.plot(macd_test.index, macd_test['MACD'], label='MACD', color='blue')\n",
    "    plt.plot(macd_test.index, macd_test['Signal'], label='信号线', color='orange')\n",
    "    plt.bar(macd_test.index, macd_test['Histogram'], label='MACD柱状图', color='gray', alpha=0.3)\n",
    "    plt.title(f'MACD参数 ({fast}, {slow}, {signal})')\n",
    "    plt.legend()\n",
    "    plt.grid(True)\n",
    "\n",
    "plt.tight_layout()\n",
    "plt.show()"
   ]
  }
 ],
 "metadata": {
  "kernelspec": {
   "display_name": "Python 3",
   "language": "python",
   "name": "python3"
  },
  "language_info": {
   "codemirror_mode": {
    "name": "ipython",
    "version": 3
   },
   "file_extension": ".py",
   "mimetype": "text/x-python",
   "name": "python",
   "nbconvert_exporter": "python",
   "pygments_lexer": "ipython3",
   "version": "3.9.0"
  }
 },
 "nbformat": 4,
 "nbformat_minor": 4
} 