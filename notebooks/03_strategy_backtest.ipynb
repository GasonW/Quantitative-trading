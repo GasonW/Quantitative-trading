{
 "cells": [
  {
   "cell_type": "markdown",
   "metadata": {},
   "source": [
    "# 技术指标组合策略回测\n",
    "\n",
    "本notebook将演示如何：\n",
    "1. 设计多指标组合交易信号\n",
    "2. 实现简单的回测系统\n",
    "3. 分析策略表现"
   ]
  },
  {
   "cell_type": "code",
   "execution_count": null,
   "metadata": {},
   "source": [
    "import pandas as pd\n",
    "import numpy as np\n",
    "import matplotlib.pyplot as plt\n",
    "from src.indicators import calculate_macd, calculate_rsi, calculate_bollinger_bands\n",
    "\n",
    "# 设置中文显示\n",
    "plt.rcParams['font.sans-serif'] = ['Arial Unicode MS']  # MacOS\n",
    "plt.rcParams['axes.unicode_minus'] = False"
   ]
  },
  {
   "cell_type": "markdown",
   "metadata": {},
   "source": [
    "## 1. 加载数据并计算指标"
   ]
  },
  {
   "cell_type": "code",
   "execution_count": null,
   "metadata": {},
   "source": [
    "# 加载数据\n",
    "df = pd.read_csv('../data/AAPL_data.csv', index_col=0, parse_dates=True)\n",
    "\n",
    "# 计算技术指标\n",
    "macd = calculate_macd(df['Close'])\n",
    "rsi = calculate_rsi(df['Close'])\n",
    "bb = calculate_bollinger_bands(df['Close'])\n",
    "\n",
    "# 合并所有指标\n",
    "df['MACD'] = macd['MACD']\n",
    "df['Signal'] = macd['Signal']\n",
    "df['RSI'] = rsi\n",
    "df['BB_Upper'] = bb['Upper']\n",
    "df['BB_Lower'] = bb['Lower']\n",
    "\n",
    "df.head()"
   ]
  },
  {
   "cell_type": "markdown",
   "metadata": {},
   "source": [
    "## 2. 设计交易信号"
   ]
  },
  {
   "cell_type": "code",
   "execution_count": null,
   "metadata": {},
   "source": [
    "def generate_signals(df):\n",
    "    \"\"\"生成交易信号\n",
    "    1: 买入信号\n",
    "    -1: 卖出信号\n",
    "    0: 无信号\n",
    "    \"\"\"\n",
    "    signals = pd.Series(0, index=df.index)\n",
    "    \n",
    "    # MACD金叉 + RSI超卖\n",
    "    buy_condition = (df['MACD'] > df['Signal']) & (df['RSI'] < 30)\n",
    "    \n",
    "    # MACD死叉 + RSI超买\n",
    "    sell_condition = (df['MACD'] < df['Signal']) & (df['RSI'] > 70)\n",
    "    \n",
    "    signals[buy_condition] = 1\n",
    "    signals[sell_condition] = -1\n",
    "    \n",
    "    return signals\n",
    "\n",
    "# 生成信号\n",
    "df['Signal'] = generate_signals(df)\n",
    "\n",
    "# 显示信号分布\n",
    "print('信号分布：')\n",
    "print(df['Signal'].value_counts())"
   ]
  },
  {
   "cell_type": "markdown",
   "metadata": {},
   "source": [
    "## 3. 回测系统"
   ]
  },
  {
   "cell_type": "code",
   "execution_count": null,
   "metadata": {},
   "source": [
    "def backtest(df, initial_capital=100000):\n",
    "    \"\"\"简单的回测系统\"\"\"\n",
    "    position = 0\n",
    "    capital = initial_capital\n",
    "    trades = []\n",
    "    \n",
    "    for i in range(1, len(df)):\n",
    "        if df['Signal'].iloc[i] == 1 and position == 0:  # 买入信号\n",
    "            position = 1\n",
    "            entry_price = df['Close'].iloc[i]\n",
    "            trades.append({\n",
    "                'type': 'buy',\n",
    "                'date': df.index[i],\n",
    "                'price': entry_price\n",
    "            })\n",
    "            \n",
    "        elif df['Signal'].iloc[i] == -1 and position == 1:  # 卖出信号\n",
    "            position = 0\n",
    "            exit_price = df['Close'].iloc[i]\n",
    "            profit = (exit_price - entry_price) / entry_price\n",
    "            capital *= (1 + profit)\n",
    "            trades.append({\n",
    "                'type': 'sell',\n",
    "                'date': df.index[i],\n",
    "                'price': exit_price,\n",
    "                'profit': profit\n",
    "            })\n",
    "    \n",
    "    return pd.DataFrame(trades), capital\n",
    "\n",
    "# 运行回测\n",
    "trades_df, final_capital = backtest(df)\n",
    "\n",
    "# 显示回测结果\n",
    "print(f'初始资金: ${initial_capital:,.2f}')\n",
    "print(f'最终资金: ${final_capital:,.2f}')\n",
    "print(f'总收益率: {(final_capital/initial_capital - 1)*100:.2f}%')\n",
    "print(f'交易次数: {len(trades_df)}')\n",
    "\n",
    "if len(trades_df) > 0:\n",
    "    print('\\n交易记录：')\n",
    "    print(trades_df)"
   ]
  },
  {
   "cell_type": "markdown",
   "metadata": {},
   "source": [
    "## 4. 可视化回测结果"
   ]
  },
  {
   "cell_type": "code",
   "execution_count": null,
   "metadata": {},
   "source": [
    "# 创建图表\n",
    "fig, ax = plt.subplots(figsize=(15, 8))\n",
    "\n",
    "# 绘制价格走势\n",
    "ax.plot(df.index, df['Close'], label='价格', color='blue')\n",
    "\n",
    "# 标记买入点\n",
    "buy_points = trades_df[trades_df['type'] == 'buy']\n",
    "ax.scatter(buy_points['date'], buy_points['price'], \n",
    "          color='green', marker='^', s=100, label='买入点')\n",
    "\n",
    "# 标记卖出点\n",
    "sell_points = trades_df[trades_df['type'] == 'sell']\n",
    "ax.scatter(sell_points['date'], sell_points['price'], \n",
    "          color='red', marker='v', s=100, label='卖出点')\n",
    "\n",
    "ax.set_title('交易信号可视化')\n",
    "ax.set_xlabel('日期')\n",
    "ax.set_ylabel('价格 (USD)')\n",
    "ax.legend()\n",
    "ax.grid(True)\n",
    "plt.show()"
   ]
  }
 ],
 "metadata": {
  "kernelspec": {
   "display_name": "Python 3",
   "language": "python",
   "name": "python3"
  },
  "language_info": {
   "codemirror_mode": {
    "name": "ipython",
    "version": 3
   },
   "file_extension": ".py",
   "mimetype": "text/x-python",
   "name": "python",
   "nbconvert_exporter": "python",
   "pygments_lexer": "ipython3",
   "version": "3.9.0"
  }
 },
 "nbformat": 4,
 "nbformat_minor": 4
} 